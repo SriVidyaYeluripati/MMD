{
  "nbformat": 4,
  "nbformat_minor": 0,
  "metadata": {
    "colab": {
      "provenance": [],
      "authorship_tag": "ABX9TyOIiB1+os06wXqzM3UUrGGj",
      "include_colab_link": true
    },
    "kernelspec": {
      "name": "python3",
      "display_name": "Python 3"
    },
    "language_info": {
      "name": "python"
    }
  },
  "cells": [
    {
      "cell_type": "markdown",
      "metadata": {
        "id": "view-in-github",
        "colab_type": "text"
      },
      "source": [
        "<a href=\"https://colab.research.google.com/github/SriVidyaYeluripati/MMD/blob/main/e07_g24_Yeluripati_Kamat_Bhadsavale.ipynb\" target=\"_parent\"><img src=\"https://colab.research.google.com/assets/colab-badge.svg\" alt=\"Open In Colab\"/></a>"
      ]
    },
    {
      "cell_type": "markdown",
      "source": [
        "Assignment done by\n",
        "\n",
        "*  Sri Vidya Yeluripati - 4730150\n",
        "*  Priti Kamat - 4732295\n",
        "*  Siddhant Bhadsavale - 4732294\n",
        "\n",
        "\n"
      ],
      "metadata": {
        "id": "qgclK76U4wwz"
      }
    },
    {
      "cell_type": "markdown",
      "source": [
        "## Exercise 4"
      ],
      "metadata": {
        "id": "Vm_SeUMSfK_z"
      }
    },
    {
      "cell_type": "code",
      "source": [
        "from mpmath import mp\n",
        "import random\n",
        "\n",
        "def compute_k_shingles(s: str, k: int):\n",
        "    \"\"\"\n",
        "    Compute k-shingles for a given string of digits.\n",
        "    Return a sorted list of integers corresponding to the k-shingles.\n",
        "    \"\"\"\n",
        "    shingles = set()\n",
        "    for i in range(len(s) - k + 1):\n",
        "        # Extract k-shingle\n",
        "        k_shingle_str = s[i:i+k]\n",
        "        # Convert to integer position\n",
        "        k_shingle_int = int(k_shingle_str)\n",
        "        shingles.add(k_shingle_int)\n",
        "    return sorted(shingles)\n",
        "\n",
        "def generate_hash_functions(K):\n",
        "    \"\"\"\n",
        "    Generate K random hash functions of the form (a*x + b) % p.\n",
        "    Returns a list of tuples (a, b, p).\n",
        "    \"\"\"\n",
        "    p_base = 10**15\n",
        "    hash_funcs = [(37, 126, p_base + 223)]  # First predefined hash function\n",
        "\n",
        "    # Generate remaining (K-1) random hash functions\n",
        "    p_offsets = [37, 91, 159, 187]\n",
        "    for i in range(K - 1):\n",
        "        a = random.randint(0, 10**12)\n",
        "        b = random.randint(0, 10**12)\n",
        "        p = p_base + p_offsets[i % len(p_offsets)]\n",
        "        hash_funcs.append((a, b, p))\n",
        "\n",
        "    return hash_funcs\n",
        "\n",
        "def minhash_signatures(positions, hash_funcs):\n",
        "    \"\"\"\n",
        "    Compute the MinHash signature for a single column using given hash functions.\n",
        "\n",
        "    Parameters:\n",
        "    - positions: sorted list of integer positions of set bits.\n",
        "    - hash_funcs: list of tuples (a, b, p)\n",
        "\n",
        "    Returns:\n",
        "    - A list containing the minhash signature, one entry per hash function.\n",
        "    \"\"\"\n",
        "    signature = []\n",
        "    N = 10**12\n",
        "    for (a, b, p) in hash_funcs:\n",
        "        min_val = None\n",
        "        for x in positions:\n",
        "            h = ((a * x + b) % p) % N + 1\n",
        "            if min_val is None or h < min_val:\n",
        "                min_val = h\n",
        "        signature.append(min_val)\n",
        "    return signature\n",
        "\n",
        "def compute_signature_matrix(columns, K):\n",
        "    \"\"\"\n",
        "    Compute the MinHash signature matrix for multiple columns.\n",
        "\n",
        "    Parameters:\n",
        "    - columns: List of lists, each representing positions of set bits in a column.\n",
        "    - K: Number of hash functions (rows of the signature matrix).\n",
        "\n",
        "    Returns:\n",
        "    - Signature matrix: K x m matrix where m is the number of columns.\n",
        "    \"\"\"\n",
        "    hash_funcs = generate_hash_functions(K)\n",
        "    signature_matrix = []\n",
        "\n",
        "    for col in columns:\n",
        "        signature = minhash_signatures(col, hash_funcs)\n",
        "        signature_matrix.append(signature)\n",
        "\n",
        "    return signature_matrix\n",
        "\n",
        "# Example usage:\n",
        "if __name__ == \"__main__\":\n",
        "    # Example strings to generate shingles\n",
        "    strings = [\"1234567890\", \"9876543210\", \"5678901234\"]\n",
        "    k = 4  # Length of shingles\n",
        "    columns = [compute_k_shingles(s, k) for s in strings]\n",
        "\n",
        "    K = 5  # Number of hash functions\n",
        "    signature_matrix = compute_signature_matrix(columns, K)\n",
        "\n",
        "    # Transpose the matrix to display it in row-major order\n",
        "    print(\"Signature Matrix (K rows, m columns):\")\n",
        "    for row in zip(*signature_matrix):\n",
        "        print(row)\n"
      ],
      "metadata": {
        "colab": {
          "base_uri": "https://localhost:8080/",
          "height": 0
        },
        "id": "5b5OqmHXT8OH",
        "outputId": "a5d595c8-6d45-46fe-e057-c5662b98ce9b"
      },
      "execution_count": 2,
      "outputs": [
        {
          "output_type": "stream",
          "name": "stdout",
          "text": [
            "Signature Matrix (K rows, m columns):\n",
            "(45785, 118897, 4678)\n",
            "(24621860647, 647703424333, 24621860647)\n",
            "(19814202234, 46736656019, 29827443110)\n",
            "(219105154845, 50440208889, 16014071384)\n",
            "(97115886950, 31194673361, 97115886950)\n"
          ]
        }
      ]
    },
    {
      "cell_type": "markdown",
      "source": [
        "### **Interpretation of Output**\n",
        "\n",
        "The output is a **5x3 signature matrix**, where:\n",
        "- **Rows** correspond to the **5 hash functions**.\n",
        "- **Columns** correspond to the **3 sets of shingles** (derived from the 3 strings).\n",
        "\n",
        "1. **First Row**:  \n",
        "   - **45785**: Minimum hash value for the first column (shingles of `\"1234567890\"`) using the first hash function.  \n",
        "   - **118897**: Minimum hash value for the second column (`\"9876543210\"`) using the first hash function.  \n",
        "   - **4678**: Minimum hash value for the third column (`\"5678901234\"`) using the first hash function.\n",
        "\n",
        "2. **Subsequent Rows**:  \n",
        "   - Each value in the rows represents the **minimum hash value** for the corresponding column using a different hash function.\n",
        "\n",
        "### **Key Observations**\n",
        "\n",
        "1. **Similarity Detection**:\n",
        "   - Columns with similar shingles will have similar **MinHash signatures** (i.e., similar values in the same rows).\n",
        "   - Comparing these signatures helps determine the **Jaccard similarity** between the sets.\n",
        "\n",
        "2. **Example**:\n",
        "   - The first and third columns have similar values in several rows (e.g., **45785** and **4678** in the first row, and **97115886950** in the fifth row).  \n",
        "   - This suggests that the sets of shingles for `\"1234567890\"` and `\"5678901234\"` share some similarity.\n",
        "\n",
        "\n",
        "## **Conclusion**\n",
        "\n",
        "1. **What the Code Does**:  \n",
        "   - Computes **k-shingles** for strings.\n",
        "   - Generates **MinHash signatures** using random hash functions.\n",
        "   - Constructs a **signature matrix** for multiple sets (columns).\n",
        "\n",
        "2. **Output Interpretation**:  \n",
        "   - The signature matrix helps quickly estimate **set similarity** by comparing rows of hash values.\n",
        "   - Similar sets produce similar MinHash signatures, making this technique useful for tasks like **duplicate detection** and **document similarity**.\n",
        "\n"
      ],
      "metadata": {
        "id": "proyhNDR4KAY"
      }
    },
    {
      "cell_type": "markdown",
      "source": [
        "\n",
        "\n",
        "## Exercise 5\n",
        "\n",
        "\n",
        "\n"
      ],
      "metadata": {
        "id": "_QvPTNV6fs7l"
      }
    },
    {
      "cell_type": "markdown",
      "source": [
        "### **Part (a)**: Generate a Dataset in Sparse Format\n",
        "\n",
        "We need to generate a dataset consisting of $ m $ columns (sets), where each column contains $ q $ non-zero positions. The first column $ C_0 $ contains random positions, and each subsequent column $ C_i $ is derived from $ C_{i-1} $ by replacing a fraction $ \\Delta $ of elements with new random positions.\n",
        "\n",
        "\n",
        "1. Generate $ C_0 $:  \n",
        "   - Create the first column $ C_0 $ by selecting $ q $ random integers from the range $[0, N-1]$.\n",
        "\n",
        "2. Generate $ C_i $ for $ i = 1, 2, \\ldots, m $**:  \n",
        "   - Copy the previous column $ C_{i-1} $.\n",
        "   - Replace a fraction $ \\Delta $ of the elements with new random positions that are not in $ C_{i-1} $.\n",
        "   - Ensure each column still has exactly $ q $ elements."
      ],
      "metadata": {
        "id": "jz3q_C6f3fig"
      }
    },
    {
      "cell_type": "code",
      "source": [
        "\n",
        "import random\n",
        "\n",
        "def generate_dataset(m, q, delta, N):\n",
        "    \"\"\"\n",
        "    Generate a dataset consisting of m sets (columns), each containing q non-zero positions.\n",
        "\n",
        "    Parameters:\n",
        "    - m: Number of columns (sets) in the dataset.\n",
        "    - q: Number of non-zero positions per column.\n",
        "    - delta: Difference factor (fraction of elements to replace in each subsequent column).\n",
        "    - N: Length of each virtual 0/1 vector (maximum possible set elements).\n",
        "\n",
        "    Returns:\n",
        "    - A list of sets, where each set contains q unique integers (positions).\n",
        "    \"\"\"\n",
        "    dataset = []\n",
        "\n",
        "    # Generate the first column C0 with q random non-zero positions\n",
        "    C0 = set(random.sample(range(N), q))\n",
        "    dataset.append(C0)\n",
        "\n",
        "    for i in range(1, m):\n",
        "        # Copy the previous column\n",
        "        Ci = set(dataset[-1])\n",
        "\n",
        "        # Number of positions to replace\n",
        "        num_to_replace = int(delta * q)\n",
        "\n",
        "        # Select positions to remove\n",
        "        positions_to_remove = random.sample(Ci, num_to_replace)\n",
        "        for pos in positions_to_remove:\n",
        "            Ci.remove(pos)\n",
        "\n",
        "        # Generate new unique positions not present in Ci\n",
        "        new_positions = set()\n",
        "        while len(new_positions) < num_to_replace:\n",
        "            new_pos = random.randint(0, N - 1)\n",
        "            if new_pos not in Ci:\n",
        "                new_positions.add(new_pos)\n",
        "\n",
        "        # Add new positions to Ci\n",
        "        Ci.update(new_positions)\n",
        "\n",
        "        dataset.append(Ci)\n",
        "\n",
        "    return dataset\n",
        "\n",
        "# Example usage with parameters specified in the exercise\n",
        "m = 100       # Number of columns\n",
        "q = 20000     # Number of non-zero positions per column\n",
        "delta = 0.02  # Difference factor (2%)\n",
        "N = 10**8     # Length of each virtual 0/1 vector\n",
        "\n",
        "dataset = generate_dataset(m, q, delta, N)\n",
        "\n",
        "# Display the first few columns for verification\n",
        "for i, column in enumerate(dataset[:3]):\n",
        "    print(f\"Column C{i}: {sorted(list(column))[:10]} ...\")  # Display the first 10 positions\n",
        "\n"
      ],
      "metadata": {
        "colab": {
          "base_uri": "https://localhost:8080/",
          "height": 0
        },
        "id": "n0-mxqpsgnNn",
        "outputId": "f9b0b4c9-7652-4be5-af5f-7d7e93a44419"
      },
      "execution_count": 4,
      "outputs": [
        {
          "output_type": "stream",
          "name": "stderr",
          "text": [
            "<ipython-input-4-b950a8a73739>:30: DeprecationWarning: Sampling from a set deprecated\n",
            "since Python 3.9 and will be removed in a subsequent version.\n",
            "  positions_to_remove = random.sample(Ci, num_to_replace)\n"
          ]
        },
        {
          "output_type": "stream",
          "name": "stdout",
          "text": [
            "Column C0: [6129, 7269, 13104, 17914, 21176, 24252, 34170, 38478, 39116, 50761] ...\n",
            "Column C1: [6129, 7269, 13104, 17914, 21176, 24252, 34170, 38478, 50761, 51707] ...\n",
            "Column C2: [6129, 7269, 13104, 16197, 17914, 21176, 24252, 34170, 38478, 50761] ...\n"
          ]
        }
      ]
    },
    {
      "cell_type": "markdown",
      "source": [
        "---\n",
        "\n",
        "### **Part (b)**: Compute the MinHash Signature Matrix\n",
        "\n",
        "Now, we'll use the MinHash functions from **Exercise 4** to compute the MinHash signature matrix for the dataset generated in Part (a). We'll use $ K = 100 $ hash functions.\n"
      ],
      "metadata": {
        "id": "VRtIG71lgUQQ"
      }
    },
    {
      "cell_type": "code",
      "source": [
        "\n",
        "\n",
        "def generate_hash_functions(K, N):\n",
        "    \"\"\"\n",
        "    Generate K random hash functions of the form (a*x + b) % p.\n",
        "\n",
        "    Parameters:\n",
        "    - K: Number of hash functions.\n",
        "    - N: The range of possible set elements.\n",
        "\n",
        "    Returns:\n",
        "    - List of hash functions represented as tuples (a, b, p).\n",
        "    \"\"\"\n",
        "    p = 2**31 - 1  # Prime number close to 2^31\n",
        "    hash_funcs = []\n",
        "\n",
        "    for _ in range(K):\n",
        "        a = random.randint(1, p - 1)\n",
        "        b = random.randint(0, p - 1)\n",
        "        hash_funcs.append((a, b, p))\n",
        "\n",
        "    return hash_funcs\n",
        "\n",
        "def compute_minhash_signature(positions, hash_funcs, N):\n",
        "    \"\"\"\n",
        "    Compute the MinHash signature for a single set.\n",
        "\n",
        "    Parameters:\n",
        "    - positions: Set of integers representing the positions of set elements.\n",
        "    - hash_funcs: List of hash functions (a, b, p).\n",
        "    - N: The range of possible set elements.\n",
        "\n",
        "    Returns:\n",
        "    - List of MinHash values (signature).\n",
        "    \"\"\"\n",
        "    signature = []\n",
        "    for a, b, p in hash_funcs:\n",
        "        min_val = float('inf')\n",
        "        for x in positions:\n",
        "            hash_val = ((a * x + b) % p) % N\n",
        "            min_val = min(min_val, hash_val)\n",
        "        signature.append(min_val)\n",
        "    return signature\n",
        "\n",
        "def compute_signature_matrix(dataset, K, N):\n",
        "    \"\"\"\n",
        "    Compute the MinHash signature matrix for a dataset of sets.\n",
        "\n",
        "    Parameters:\n",
        "    - dataset: List of sets, where each set contains the positions of set elements.\n",
        "    - K: Number of hash functions (rows of the signature matrix).\n",
        "    - N: The range of possible set elements.\n",
        "\n",
        "    Returns:\n",
        "    - Signature matrix with K rows and len(dataset) columns.\n",
        "    \"\"\"\n",
        "    hash_funcs = generate_hash_functions(K, N)\n",
        "    signature_matrix = []\n",
        "\n",
        "    for positions in dataset:\n",
        "        signature = compute_minhash_signature(positions, hash_funcs, N)\n",
        "        signature_matrix.append(signature)\n",
        "\n",
        "    return signature_matrix\n",
        "\n",
        "# Parameters\n",
        "K = 100  # Number of hash functions\n",
        "\n",
        "# Compute the MinHash signature matrix\n",
        "signature_matrix = compute_signature_matrix(dataset, K, N)\n",
        "\n",
        "# Display the first few rows of the signature matrix\n",
        "print(\"\\nSignature Matrix (first 5 rows):\")\n",
        "for row in signature_matrix[:5]:\n",
        "    print(row[:10])  # Display the first 10 values of each signature\n"
      ],
      "metadata": {
        "colab": {
          "base_uri": "https://localhost:8080/",
          "height": 0
        },
        "id": "D9qEK6WZgzpn",
        "outputId": "41e189cb-50c3-4014-e90b-9f9a0243fe16"
      },
      "execution_count": 5,
      "outputs": [
        {
          "output_type": "stream",
          "name": "stdout",
          "text": [
            "\n",
            "Signature Matrix (first 5 rows):\n",
            "[10710, 514, 4285, 10307, 1929, 24126, 5750, 398, 5265, 3320]\n",
            "[10710, 514, 4285, 1357, 1929, 24126, 5750, 398, 5265, 3320]\n",
            "[10710, 514, 4285, 1357, 1929, 24126, 5750, 398, 5265, 3320]\n",
            "[10710, 514, 4285, 1357, 1929, 24126, 5750, 398, 5265, 3320]\n",
            "[10710, 514, 4285, 1357, 1929, 24126, 4068, 398, 5265, 3320]\n"
          ]
        }
      ]
    },
    {
      "cell_type": "markdown",
      "source": [
        "\n",
        "\n",
        "### **Part (c)**: Calculate the Jaccard Similarity (Bonus)\n",
        "\n",
        "Calculate the Jaccard similarity for each pair of columns in the dataset.\n",
        "\n"
      ],
      "metadata": {
        "id": "a-eKe07RgZ6_"
      }
    },
    {
      "cell_type": "code",
      "source": [
        "\n",
        "def jaccard_similarity(set1, set2):\n",
        "    \"\"\"\n",
        "    Compute the Jaccard similarity between two sets.\n",
        "\n",
        "    Parameters:\n",
        "    - set1: First set.\n",
        "    - set2: Second set.\n",
        "\n",
        "    Returns:\n",
        "    - Jaccard similarity coefficient.\n",
        "    \"\"\"\n",
        "    intersection = len(set1.intersection(set2))\n",
        "    union = len(set1.union(set2))\n",
        "    return intersection / union\n",
        "\n",
        "# Compute Jaccard similarities for each pair of columns\n",
        "print(\"\\nJaccard Similarities:\")\n",
        "for i in range(min(3, len(dataset))):  # Compare the first 3 columns for demonstration\n",
        "    for j in range(i + 1, min(3, len(dataset))):\n",
        "        sim = jaccard_similarity(dataset[i], dataset[j])\n",
        "        print(f\"Jaccard similarity between C{i} and C{j}: {sim:.4f}\")\n",
        "\n"
      ],
      "metadata": {
        "colab": {
          "base_uri": "https://localhost:8080/",
          "height": 0
        },
        "id": "M-_5GiPgfnjR",
        "outputId": "ba3ff664-2104-4c7b-99ce-c5b794957578"
      },
      "execution_count": 6,
      "outputs": [
        {
          "output_type": "stream",
          "name": "stdout",
          "text": [
            "\n",
            "Jaccard Similarities:\n",
            "Jaccard similarity between C0 and C1: 0.9608\n",
            "Jaccard similarity between C0 and C2: 0.9238\n",
            "Jaccard similarity between C1 and C2: 0.9608\n"
          ]
        }
      ]
    },
    {
      "cell_type": "markdown",
      "source": [
        "\n",
        "\n",
        "### **Interpreting the output**\n",
        "\n",
        "1. **High Similarity Values**:  \n",
        "   The Jaccard similarity values are **close to 1** (0.9608 and 0.9238), indicating that the sets $ C_0 $, $ C_1 $, and $ C_2 $ are very similar and have significant overlap.\n",
        "\n",
        "2. **Why the Sets Are Similar**:  \n",
        "   This high similarity is expected because:\n",
        "   - **Small Difference Factor $ \\Delta = 0.02 $**:  \n",
        "     Only **2%** of the elements in each subsequent set are replaced with new random elements. For $ q = 20,000 $ elements per set, replacing 2% means:\n",
        "     $$\n",
        "     0.02 \\times 20,000 = 400 \\text{ elements}\n",
        "     $$\n",
        "     Therefore, each new set $ C_i $ is derived by replacing just **400 elements** out of **20,000**, keeping **19,600 elements unchanged**.\n",
        "\n",
        "3. **Impact on the Jaccard Similarity**:  \n",
        "   Because most elements remain the same between $ C_0 $, $ C_1 $, and $ C_2 $, the **intersection** $ |C_i \\cap C_j| $ is large, and the **union** $ |C_i \\cup C_j| $ is only slightly larger than the intersection. This results in high Jaccard similarity values.\n",
        "\n",
        "\n",
        "### **for example**\n",
        "\n",
        "Suppose:\n",
        "- $ C_0 $ has 20,000 elements.\n",
        "- $ C_1 $ is derived from $ C_0 $ by replacing 400 elements.\n",
        "\n",
        "#### **Intersection** $ |C_0 \\cap C_1| $:\n",
        "\n",
        "The number of elements in common between $ C_0 $ and $ C_1 $ is approximately:\n",
        "\n",
        "\\[\n",
        "|C_0 \\cap C_1| = 20,000 - 400 = 19,600\n",
        "\\]\n",
        "\n",
        "#### **Union** $ |C_0 \\cup C_1| $:\n",
        "\n",
        "The total number of unique elements in $ C_0 $ and $ C_1 $ is:\n",
        "\n",
        "\\[\n",
        "|C_0 \\cup C_1| = 20,000 + 400 = 20,400\n",
        "\\]\n",
        "\n",
        "#### **Jaccard Similarity**:\n",
        "\n",
        "\\[\n",
        "J(C_0, C_1) = \\frac{|C_0 \\cap C_1|}{|C_0 \\cup C_1|} = \\frac{19,600}{20,400} \\approx 0.9608\n",
        "\\]\n",
        "\n",
        "\n",
        "\n",
        "###  Therefore,\n",
        "\n",
        "- **High Jaccard Similarities**: The small replacement fraction ($ \\Delta = 0.02 $) means that the sets differ by only a small number of elements, leading to high Jaccard similarity values.\n",
        "- **Consistency**: The similarities between $ C_0 $, $ C_1 $, and $ C_2 $ reflect the controlled randomness introduced by replacing only 2% of elements.\n",
        "- **Insights**: This behavior is useful in real-world applications like **document similarity** or **duplicate detection**, where only small differences between datasets might exist.\n"
      ],
      "metadata": {
        "id": "_2Wuk-jChu3L"
      }
    },
    {
      "cell_type": "markdown",
      "source": [
        "\n",
        "\n",
        "## Exercise 6\n",
        "\n"
      ],
      "metadata": {
        "id": "JYuvFNO5vEpJ"
      }
    },
    {
      "cell_type": "markdown",
      "source": [
        "\n",
        "### **Part (a): Construct Different Hash Functions \\( g_i \\) for Each Band**\n",
        "\n",
        "This part requires creating \\( b \\) different hash functions \\( g_i \\) to map a vector of \\( r \\) integers to a single integer (bucket index). Two approaches are suggested:\n",
        "\n",
        "1. **Using the `xxhash` library**.\n",
        "2. **Converting vectors to strings and using Python's `hash()` function**.\n"
      ],
      "metadata": {
        "id": "1WUCgKHk3kJX"
      }
    },
    {
      "cell_type": "code",
      "source": [
        "import xxhash\n",
        "import numpy as np\n",
        "\n",
        "def create_xxhash_functions(b):\n",
        "    \"\"\"\n",
        "    Create b different hash functions using xxhash with different seeds.\n",
        "\n",
        "    Parameters:\n",
        "    - b: Number of bands.\n",
        "\n",
        "    Returns:\n",
        "    - List of hash functions.\n",
        "    \"\"\"\n",
        "    hash_functions = []\n",
        "    for i in range(b):\n",
        "        # Create a lambda function that hashes a vector using xxhash with seed i\n",
        "        hash_func = lambda vec, seed=i: xxhash.xxh32(str(vec), seed=seed).intdigest()\n",
        "        hash_functions.append(hash_func)\n",
        "    return hash_functions\n",
        "\n",
        "def create_builtin_hash_functions(b):\n",
        "    \"\"\"\n",
        "    Create b different hash functions using Python's built-in hash function.\n",
        "\n",
        "    Parameters:\n",
        "    - b: Number of bands.\n",
        "\n",
        "    Returns:\n",
        "    - List of hash functions.\n",
        "    \"\"\"\n",
        "    hash_functions = []\n",
        "    for i in range(b):\n",
        "        # Create a lambda function that hashes a vector concatenated with the band index\n",
        "        hash_func = lambda vec, band=i: hash(str(vec) + str(band))\n",
        "        hash_functions.append(hash_func)\n",
        "    return hash_functions\n",
        "\n",
        "# Example usage\n",
        "b = 20  # Number of bands\n",
        "xxhash_functions = create_xxhash_functions(b)\n",
        "builtin_hash_functions = create_builtin_hash_functions(b)\n",
        "\n",
        "# Test the hash functions with a vector\n",
        "test_vector = np.array([1, 2, 3, 4, 5])\n",
        "print(f\"xxHash values: {[h(test_vector) for h in xxhash_functions]}\")\n",
        "print(f\"Built-in hash values: {[h(test_vector) for h in builtin_hash_functions]}\")\n",
        "\n"
      ],
      "metadata": {
        "colab": {
          "base_uri": "https://localhost:8080/",
          "height": 0
        },
        "id": "OG2Bk6OQvTqR",
        "outputId": "38d674bb-1fd0-4734-8d08-f95e3ac6387e"
      },
      "execution_count": 8,
      "outputs": [
        {
          "output_type": "stream",
          "name": "stdout",
          "text": [
            "xxHash values: [2443141713, 1708629347, 3021192109, 1202819330, 1182190912, 2237512994, 4178985559, 2627105734, 2383855167, 3757148608, 472048331, 4178311862, 2465157257, 1452833754, 4105704044, 3190908680, 2677250259, 4186950700, 1002661623, 394351047]\n",
            "Built-in hash values: [-4633164549821498267, 3133947342612956529, 6691419459816456125, -6059198644635575198, -1813158642576249077, -2494217900765340588, -8564543362158069978, -7695235814752566009, 334957879107091538, -3248589427651063270, -3497867033403435811, 6179562773727287453, -90361210415465930, -5508209450496274652, -4552260844847052047, -135074503039574848, 5261032922404606162, -2001006553259174736, 4788134914345785206, 4234500090620537194]\n"
          ]
        }
      ]
    },
    {
      "cell_type": "markdown",
      "source": [
        "\n",
        "\n",
        "### **Part (b): Implement the LSH Algorithm**\n",
        "\n",
        "This part asks us to implement the LSH algorithm, using the hash functions \\( g_i \\) from Part (a). We'll use Python's `defaultdict` to store the bucket mappings.\n",
        "\n",
        "\n",
        "\n"
      ],
      "metadata": {
        "id": "n475dympvR0I"
      }
    },
    {
      "cell_type": "code",
      "source": [
        "\n",
        "from collections import defaultdict\n",
        "\n",
        "def lsh(signature_matrix, hash_functions, r):\n",
        "    \"\"\"\n",
        "    Perform Locality Sensitive Hashing on the signature matrix.\n",
        "\n",
        "    Parameters:\n",
        "    - signature_matrix: List of MinHash signatures (each signature is a list of integers).\n",
        "    - hash_functions: List of hash functions (one for each band).\n",
        "    - r: Number of rows per band.\n",
        "\n",
        "    Returns:\n",
        "    - Dictionary of buckets with the signature column indices mapped to them.\n",
        "    \"\"\"\n",
        "    b = len(hash_functions)  # Number of bands\n",
        "    buckets = defaultdict(list)\n",
        "\n",
        "    # Iterate over each column (signature) in the signature matrix\n",
        "    for col_idx, signature in enumerate(signature_matrix):\n",
        "        # Split the signature into b bands of r rows each\n",
        "        for i in range(b):\n",
        "            band = signature[i * r: (i + 1) * r]  # Extract the band\n",
        "            bucket_index = hash_functions[i](band)  # Hash the band\n",
        "            buckets[bucket_index].append(col_idx)  # Map the column index to the bucket\n",
        "\n",
        "    return buckets\n",
        "\n",
        "# Example usage\n",
        "signature_matrix = [\n",
        "    [1, 3, 5, 7, 9, 2, 4, 6, 8, 10],  # Example signature for column 1\n",
        "    [2, 4, 6, 8, 10, 1, 3, 5, 7, 9],  # Example signature for column 2\n",
        "    [1, 2, 3, 4, 5, 6, 7, 8, 9, 10]   # Example signature for column 3\n",
        "]\n",
        "\n",
        "r = 5  # Number of rows per band\n",
        "buckets = lsh(signature_matrix, xxhash_functions, r)\n",
        "\n",
        "# Display the resulting buckets\n",
        "for bucket, cols in buckets.items():\n",
        "    print(f\"Bucket {bucket}: Columns {cols}\")\n"
      ],
      "metadata": {
        "colab": {
          "base_uri": "https://localhost:8080/",
          "height": 0
        },
        "id": "ATtM8VxiwKBT",
        "outputId": "c2b68d99-c3d4-4b25-f66c-f32856982de0"
      },
      "execution_count": 9,
      "outputs": [
        {
          "output_type": "stream",
          "name": "stdout",
          "text": [
            "Bucket 3965492925: Columns [0]\n",
            "Bucket 1651688531: Columns [0]\n",
            "Bucket 906737282: Columns [0, 1, 2]\n",
            "Bucket 1270364735: Columns [0, 1, 2]\n",
            "Bucket 3871400220: Columns [0, 1, 2]\n",
            "Bucket 4226578855: Columns [0, 1, 2]\n",
            "Bucket 3318037187: Columns [0, 1, 2]\n",
            "Bucket 2953405471: Columns [0, 1, 2]\n",
            "Bucket 2753542144: Columns [0, 1, 2]\n",
            "Bucket 1640593572: Columns [0, 1, 2]\n",
            "Bucket 2302461646: Columns [0, 1, 2]\n",
            "Bucket 1341366201: Columns [0, 1, 2]\n",
            "Bucket 2317498526: Columns [0, 1, 2]\n",
            "Bucket 4235568578: Columns [0, 1, 2]\n",
            "Bucket 1641021591: Columns [0, 1, 2]\n",
            "Bucket 3421551109: Columns [0, 1, 2]\n",
            "Bucket 2496262321: Columns [0, 1, 2]\n",
            "Bucket 443900876: Columns [0, 1, 2]\n",
            "Bucket 3346922324: Columns [0, 1, 2]\n",
            "Bucket 2543888083: Columns [0, 1, 2]\n",
            "Bucket 2794205552: Columns [1]\n",
            "Bucket 1612992833: Columns [1]\n",
            "Bucket 3552688363: Columns [2]\n",
            "Bucket 4144750169: Columns [2]\n"
          ]
        }
      ]
    },
    {
      "cell_type": "markdown",
      "source": [
        "\n",
        "\n",
        "### **Part (c): Analyze the MinHash Signature Matrix**\n",
        "\n",
        "This part requires analyzing the MinHash signature matrix and identifying buckets where at least two columns are mapped.\n",
        "\n"
      ],
      "metadata": {
        "id": "oRumMdWYwRqb"
      }
    },
    {
      "cell_type": "code",
      "source": [
        "\n",
        "\n",
        "def find_similar_columns(buckets):\n",
        "    \"\"\"\n",
        "    Identify and report buckets with at least two signature columns mapped to them.\n",
        "\n",
        "    Parameters:\n",
        "    - buckets: Dictionary of buckets with the signature column indices.\n",
        "\n",
        "    Returns:\n",
        "    - List of tuples (bucket_index, list_of_columns) for buckets with at least two columns.\n",
        "    \"\"\"\n",
        "    similar_columns = []\n",
        "    for bucket_index, cols in buckets.items():\n",
        "        if len(cols) >= 2:\n",
        "            similar_columns.append((bucket_index, cols))\n",
        "    return similar_columns\n",
        "\n",
        "# Find similar columns in the buckets\n",
        "similar_columns = find_similar_columns(buckets)\n",
        "\n",
        "# Display the results\n",
        "for bucket_index, cols in similar_columns:\n",
        "    print(f\"Bucket {bucket_index}: Similar Columns {cols}\")\n"
      ],
      "metadata": {
        "colab": {
          "base_uri": "https://localhost:8080/",
          "height": 0
        },
        "id": "u92u7ww1wT6S",
        "outputId": "39c66760-7228-46b3-eba6-28bae3c70ff2"
      },
      "execution_count": 10,
      "outputs": [
        {
          "output_type": "stream",
          "name": "stdout",
          "text": [
            "Bucket 906737282: Similar Columns [0, 1, 2]\n",
            "Bucket 1270364735: Similar Columns [0, 1, 2]\n",
            "Bucket 3871400220: Similar Columns [0, 1, 2]\n",
            "Bucket 4226578855: Similar Columns [0, 1, 2]\n",
            "Bucket 3318037187: Similar Columns [0, 1, 2]\n",
            "Bucket 2953405471: Similar Columns [0, 1, 2]\n",
            "Bucket 2753542144: Similar Columns [0, 1, 2]\n",
            "Bucket 1640593572: Similar Columns [0, 1, 2]\n",
            "Bucket 2302461646: Similar Columns [0, 1, 2]\n",
            "Bucket 1341366201: Similar Columns [0, 1, 2]\n",
            "Bucket 2317498526: Similar Columns [0, 1, 2]\n",
            "Bucket 4235568578: Similar Columns [0, 1, 2]\n",
            "Bucket 1641021591: Similar Columns [0, 1, 2]\n",
            "Bucket 3421551109: Similar Columns [0, 1, 2]\n",
            "Bucket 2496262321: Similar Columns [0, 1, 2]\n",
            "Bucket 443900876: Similar Columns [0, 1, 2]\n",
            "Bucket 3346922324: Similar Columns [0, 1, 2]\n",
            "Bucket 2543888083: Similar Columns [0, 1, 2]\n"
          ]
        }
      ]
    },
    {
      "cell_type": "markdown",
      "source": [
        "\n",
        "\n",
        "### **Part (d): Compute Jaccard Similarity for Largest Group**\n",
        "\n",
        "Focus on the largest group of columns (at most 10 columns) and compute the Jaccard similarity and MinHash similarity for each pair.\n",
        "\n"
      ],
      "metadata": {
        "id": "hpDTqFyHwGgT"
      }
    },
    {
      "cell_type": "code",
      "source": [
        "\n",
        "def jaccard_similarity(set1, set2):\n",
        "    \"\"\"\n",
        "    Compute the Jaccard similarity between two sets.\n",
        "\n",
        "    Parameters:\n",
        "    - set1: First set.\n",
        "    - set2: Second set.\n",
        "\n",
        "    Returns:\n",
        "    - Jaccard similarity coefficient.\n",
        "    \"\"\"\n",
        "    intersection = len(set1.intersection(set2))\n",
        "    union = len(set1.union(set2))\n",
        "    return intersection / union\n",
        "\n",
        "# Find the largest group of columns\n",
        "largest_group = max(similar_columns, key=lambda x: len(x[1]), default=None)\n",
        "\n",
        "if largest_group:\n",
        "    bucket_index, cols = largest_group\n",
        "    print(f\"Largest group found in Bucket {bucket_index} with columns: {cols}\")\n",
        "\n",
        "    # Compute Jaccard similarity for each pair of columns in the largest group\n",
        "    for i in range(len(cols)):\n",
        "        for j in range(i + 1, len(cols)):\n",
        "            col1 = set(signature_matrix[cols[i]])\n",
        "            col2 = set(signature_matrix[cols[j]])\n",
        "            sim = jaccard_similarity(col1, col2)\n",
        "            print(f\"Jaccard similarity between Column {cols[i]} and Column {cols[j]}: {sim:.4f}\")\n",
        "else:\n",
        "    print(\"No similar columns found.\")\n",
        "\n"
      ],
      "metadata": {
        "colab": {
          "base_uri": "https://localhost:8080/",
          "height": 0
        },
        "id": "C-MDz1U-iTk8",
        "outputId": "f78a6541-1c94-4e7b-b097-fc85bae47d00"
      },
      "execution_count": 11,
      "outputs": [
        {
          "output_type": "stream",
          "name": "stdout",
          "text": [
            "Largest group found in Bucket 906737282 with columns: [0, 1, 2]\n",
            "Jaccard similarity between Column 0 and Column 1: 1.0000\n",
            "Jaccard similarity between Column 0 and Column 2: 1.0000\n",
            "Jaccard similarity between Column 1 and Column 2: 1.0000\n"
          ]
        }
      ]
    },
    {
      "cell_type": "markdown",
      "source": [
        "\n",
        "\n",
        "### **Intrpretations**\n",
        "\n",
        "1. **Perfect Similarity**:  \n",
        "   - If the Jaccard similarity is 1.0, it indicates that the sets are identical. This can happen when:\n",
        "     - The difference factor $ \\Delta $ is very small.\n",
        "     - The number of non-zero positions $ q $ is large compared to the changes introduced by $ \\Delta $.\n",
        "\n",
        "2. **Effectiveness of LSH**:  \n",
        "   - The LSH algorithm successfully grouped these identical columns into the same bucket, demonstrating that it can efficiently identify highly similar or identical sets without exhaustive pairwise comparisons.\n",
        "\n",
        "3. **Potential Conclusion**:  \n",
        "   - The dataset might contain columns that are extremely similar or identical, which could suggest:\n",
        "     - Redundant data in the dataset.\n",
        "     - The need for a higher difference factor $ \\Delta $ to introduce more variability.\n",
        "   \n",
        "we can compare a baseline(original) and some tweaks in the code as following to observe\n",
        "\n",
        "\n"
      ],
      "metadata": {
        "id": "-uE4AlMJw7KF"
      }
    },
    {
      "cell_type": "code",
      "source": [
        "import random\n",
        "import xxhash\n",
        "import numpy as np\n",
        "from collections import defaultdict\n",
        "\n",
        "# Step 1: Generate the dataset with the original parameters\n",
        "def generate_dataset(m, q, delta, N):\n",
        "    dataset = []\n",
        "    C0 = set(random.sample(range(N), q))\n",
        "    dataset.append(C0)\n",
        "    for i in range(1, m):\n",
        "        Ci = set(dataset[-1])\n",
        "        num_to_replace = int(delta * q)\n",
        "        positions_to_remove = random.sample(Ci, num_to_replace)\n",
        "        for pos in positions_to_remove:\n",
        "            Ci.remove(pos)\n",
        "        new_positions = set()\n",
        "        while len(new_positions) < num_to_replace:\n",
        "            new_pos = random.randint(0, N - 1)\n",
        "            if new_pos not in Ci:\n",
        "                new_positions.add(new_pos)\n",
        "        Ci.update(new_positions)\n",
        "        dataset.append(Ci)\n",
        "    return dataset\n",
        "\n",
        "# Step 2: Create hash functions for LSH\n",
        "def create_hash_functions(b):\n",
        "    hash_functions = []\n",
        "    for i in range(b):\n",
        "        hash_func = lambda vec, seed=i: xxhash.xxh32(str(vec), seed=seed).intdigest()\n",
        "        hash_functions.append(hash_func)\n",
        "    return hash_functions\n",
        "\n",
        "# Step 3: Perform LSH\n",
        "def lsh(signature_matrix, hash_functions, r):\n",
        "    b = len(hash_functions)\n",
        "    buckets = defaultdict(list)\n",
        "    for col_idx, signature in enumerate(signature_matrix):\n",
        "        for i in range(b):\n",
        "            band = signature[i * r: (i + 1) * r]\n",
        "            bucket_index = hash_functions[i](band)\n",
        "            buckets[bucket_index].append(col_idx)\n",
        "    return buckets\n",
        "\n",
        "# Step 4: Compute Jaccard similarity\n",
        "def jaccard_similarity(set1, set2):\n",
        "    intersection = len(set1.intersection(set2))\n",
        "    union = len(set1.union(set2))\n",
        "    return intersection / union\n",
        "\n",
        "# Parameters for the baseline\n",
        "m = 100        # Number of columns\n",
        "q = 20000      # Number of non-zero positions per column\n",
        "delta = 0.02   # Difference factor\n",
        "N = 10**8      # Length of each virtual 0/1 vector\n",
        "K = 100        # Number of hash functions\n",
        "r = 5          # Number of rows per band\n",
        "b = K // r     # Number of bands\n",
        "\n",
        "# Generate the dataset and signature matrix\n",
        "dataset = generate_dataset(m, q, delta, N)\n",
        "signature_matrix = [list(sorted(col))[:K] for col in dataset]  # Simplified signature matrix\n",
        "hash_functions = create_hash_functions(b)\n",
        "buckets = lsh(signature_matrix, hash_functions, r)\n",
        "\n",
        "# Find the largest group and compute Jaccard similarity\n",
        "similar_columns = [(bucket, cols) for bucket, cols in buckets.items() if len(cols) >= 2]\n",
        "largest_group = max(similar_columns, key=lambda x: len(x[1]), default=None)\n",
        "\n",
        "print(\"\\nBaseline Results:\")\n",
        "if largest_group:\n",
        "    bucket_index, cols = largest_group\n",
        "    print(f\"Largest group found in Bucket {bucket_index} with columns: {cols}\")\n",
        "    for i in range(len(cols)):\n",
        "        for j in range(i + 1, len(cols)):\n",
        "            sim = jaccard_similarity(dataset[cols[i]], dataset[cols[j]])\n",
        "            print(f\"Jaccard similarity between Column {cols[i]} and Column {cols[j]}: {sim:.4f}\")\n",
        "else:\n",
        "    print(\"No similar columns found.\")\n"
      ],
      "metadata": {
        "colab": {
          "base_uri": "https://localhost:8080/",
          "height": 0
        },
        "id": "taRyviYixvHp",
        "outputId": "23ad5a1a-0106-401b-a18a-78693a1d4a6c"
      },
      "execution_count": 12,
      "outputs": [
        {
          "output_type": "stream",
          "name": "stderr",
          "text": [
            "<ipython-input-12-663c8d4c889d>:14: DeprecationWarning: Sampling from a set deprecated\n",
            "since Python 3.9 and will be removed in a subsequent version.\n",
            "  positions_to_remove = random.sample(Ci, num_to_replace)\n"
          ]
        },
        {
          "output_type": "stream",
          "name": "stdout",
          "text": [
            "\n",
            "Baseline Results:\n",
            "Largest group found in Bucket 3853561975 with columns: [4, 5, 6, 7, 8, 11, 12, 13, 14, 15, 16, 17, 18, 19]\n",
            "Jaccard similarity between Column 4 and Column 5: 0.9608\n",
            "Jaccard similarity between Column 4 and Column 6: 0.9235\n",
            "Jaccard similarity between Column 4 and Column 7: 0.8888\n",
            "Jaccard similarity between Column 4 and Column 8: 0.8557\n",
            "Jaccard similarity between Column 4 and Column 11: 0.7680\n",
            "Jaccard similarity between Column 4 and Column 12: 0.7409\n",
            "Jaccard similarity between Column 4 and Column 13: 0.7163\n",
            "Jaccard similarity between Column 4 and Column 14: 0.6920\n",
            "Jaccard similarity between Column 4 and Column 15: 0.6683\n",
            "Jaccard similarity between Column 4 and Column 16: 0.6465\n",
            "Jaccard similarity between Column 4 and Column 17: 0.6248\n",
            "Jaccard similarity between Column 4 and Column 18: 0.6045\n",
            "Jaccard similarity between Column 4 and Column 19: 0.5860\n",
            "Jaccard similarity between Column 5 and Column 6: 0.9608\n",
            "Jaccard similarity between Column 5 and Column 7: 0.9237\n",
            "Jaccard similarity between Column 5 and Column 8: 0.8890\n",
            "Jaccard similarity between Column 5 and Column 11: 0.7969\n",
            "Jaccard similarity between Column 5 and Column 12: 0.7680\n",
            "Jaccard similarity between Column 5 and Column 13: 0.7419\n",
            "Jaccard similarity between Column 5 and Column 14: 0.7163\n",
            "Jaccard similarity between Column 5 and Column 15: 0.6917\n",
            "Jaccard similarity between Column 5 and Column 16: 0.6686\n",
            "Jaccard similarity between Column 5 and Column 17: 0.6460\n",
            "Jaccard similarity between Column 5 and Column 18: 0.6249\n",
            "Jaccard similarity between Column 5 and Column 19: 0.6052\n",
            "Jaccard similarity between Column 6 and Column 7: 0.9608\n",
            "Jaccard similarity between Column 6 and Column 8: 0.9240\n",
            "Jaccard similarity between Column 6 and Column 11: 0.8259\n",
            "Jaccard similarity between Column 6 and Column 12: 0.7960\n",
            "Jaccard similarity between Column 6 and Column 13: 0.7687\n",
            "Jaccard similarity between Column 6 and Column 14: 0.7416\n",
            "Jaccard similarity between Column 6 and Column 15: 0.7156\n",
            "Jaccard similarity between Column 6 and Column 16: 0.6914\n",
            "Jaccard similarity between Column 6 and Column 17: 0.6676\n",
            "Jaccard similarity between Column 6 and Column 18: 0.6455\n",
            "Jaccard similarity between Column 6 and Column 19: 0.6248\n",
            "Jaccard similarity between Column 7 and Column 8: 0.9608\n",
            "Jaccard similarity between Column 7 and Column 11: 0.8568\n",
            "Jaccard similarity between Column 7 and Column 12: 0.8252\n",
            "Jaccard similarity between Column 7 and Column 13: 0.7963\n",
            "Jaccard similarity between Column 7 and Column 14: 0.7681\n",
            "Jaccard similarity between Column 7 and Column 15: 0.7410\n",
            "Jaccard similarity between Column 7 and Column 16: 0.7158\n",
            "Jaccard similarity between Column 7 and Column 17: 0.6912\n",
            "Jaccard similarity between Column 7 and Column 18: 0.6679\n",
            "Jaccard similarity between Column 7 and Column 19: 0.6461\n",
            "Jaccard similarity between Column 8 and Column 11: 0.8889\n",
            "Jaccard similarity between Column 8 and Column 12: 0.8554\n",
            "Jaccard similarity between Column 8 and Column 13: 0.8250\n",
            "Jaccard similarity between Column 8 and Column 14: 0.7954\n",
            "Jaccard similarity between Column 8 and Column 15: 0.7672\n",
            "Jaccard similarity between Column 8 and Column 16: 0.7406\n",
            "Jaccard similarity between Column 8 and Column 17: 0.7150\n",
            "Jaccard similarity between Column 8 and Column 18: 0.6907\n",
            "Jaccard similarity between Column 8 and Column 19: 0.6677\n",
            "Jaccard similarity between Column 11 and Column 12: 0.9608\n",
            "Jaccard similarity between Column 11 and Column 13: 0.9243\n",
            "Jaccard similarity between Column 11 and Column 14: 0.8896\n",
            "Jaccard similarity between Column 11 and Column 15: 0.8562\n",
            "Jaccard similarity between Column 11 and Column 16: 0.8251\n",
            "Jaccard similarity between Column 11 and Column 17: 0.7953\n",
            "Jaccard similarity between Column 11 and Column 18: 0.7669\n",
            "Jaccard similarity between Column 11 and Column 19: 0.7403\n",
            "Jaccard similarity between Column 12 and Column 13: 0.9608\n",
            "Jaccard similarity between Column 12 and Column 14: 0.9240\n",
            "Jaccard similarity between Column 12 and Column 15: 0.8887\n",
            "Jaccard similarity between Column 12 and Column 16: 0.8555\n",
            "Jaccard similarity between Column 12 and Column 17: 0.8244\n",
            "Jaccard similarity between Column 12 and Column 18: 0.7945\n",
            "Jaccard similarity between Column 12 and Column 19: 0.7665\n",
            "Jaccard similarity between Column 13 and Column 14: 0.9608\n",
            "Jaccard similarity between Column 13 and Column 15: 0.9234\n",
            "Jaccard similarity between Column 13 and Column 16: 0.8883\n",
            "Jaccard similarity between Column 13 and Column 17: 0.8554\n",
            "Jaccard similarity between Column 13 and Column 18: 0.8238\n",
            "Jaccard similarity between Column 13 and Column 19: 0.7944\n",
            "Jaccard similarity between Column 14 and Column 15: 0.9608\n",
            "Jaccard similarity between Column 14 and Column 16: 0.9236\n",
            "Jaccard similarity between Column 14 and Column 17: 0.8886\n",
            "Jaccard similarity between Column 14 and Column 18: 0.8553\n",
            "Jaccard similarity between Column 14 and Column 19: 0.8244\n",
            "Jaccard similarity between Column 15 and Column 16: 0.9608\n",
            "Jaccard similarity between Column 15 and Column 17: 0.9235\n",
            "Jaccard similarity between Column 15 and Column 18: 0.8882\n",
            "Jaccard similarity between Column 15 and Column 19: 0.8557\n",
            "Jaccard similarity between Column 16 and Column 17: 0.9608\n",
            "Jaccard similarity between Column 16 and Column 18: 0.9236\n",
            "Jaccard similarity between Column 16 and Column 19: 0.8888\n",
            "Jaccard similarity between Column 17 and Column 18: 0.9608\n",
            "Jaccard similarity between Column 17 and Column 19: 0.9237\n",
            "Jaccard similarity between Column 18 and Column 19: 0.9608\n"
          ]
        }
      ]
    },
    {
      "cell_type": "markdown",
      "source": [
        "#### Applying some tweaks\n",
        "\n",
        "\n",
        "1. Increase the Difference Factor $ \\Delta $ from **0.02** to **0.1**.\n",
        "2. Increase the Number of Hash Functions $ K $ from **100** to **200**.\n",
        "3. Change Rows per Band $ r $ from **5** to **10**."
      ],
      "metadata": {
        "id": "oATcysmvx2kB"
      }
    },
    {
      "cell_type": "code",
      "source": [
        "# Updated parameters based on recommendations\n",
        "delta_new = 0.1   # Increase the difference factor to 10%\n",
        "K_new = 200       # Increase the number of hash functions to 200\n",
        "r_new = 10        # Increase rows per band to 10\n",
        "b_new = K_new // r_new  # Calculate new number of bands\n",
        "\n",
        "# Generate the dataset with the updated difference factor\n",
        "dataset_new = generate_dataset(m, q, delta_new, N)\n",
        "signature_matrix_new = [list(sorted(col))[:K_new] for col in dataset_new]\n",
        "hash_functions_new = create_hash_functions(b_new)\n",
        "buckets_new = lsh(signature_matrix_new, hash_functions_new, r_new)\n",
        "\n",
        "# Find the largest group and compute Jaccard similarity\n",
        "similar_columns_new = [(bucket, cols) for bucket, cols in buckets_new.items() if len(cols) >= 2]\n",
        "largest_group_new = max(similar_columns_new, key=lambda x: len(x[1]), default=None)\n",
        "\n",
        "print(\"\\nUpdated Results with Recommendations:\")\n",
        "if largest_group_new:\n",
        "    bucket_index, cols = largest_group_new\n",
        "    print(f\"Largest group found in Bucket {bucket_index} with columns: {cols}\")\n",
        "    for i in range(len(cols)):\n",
        "        for j in range(i + 1, len(cols)):\n",
        "            sim = jaccard_similarity(dataset_new[cols[i]], dataset_new[cols[j]])\n",
        "            print(f\"Jaccard similarity between Column {cols[i]} and Column {cols[j]}: {sim:.4f}\")\n",
        "else:\n",
        "    print(\"No similar columns found.\")\n"
      ],
      "metadata": {
        "colab": {
          "base_uri": "https://localhost:8080/",
          "height": 0
        },
        "id": "2L2Kpfgix9yB",
        "outputId": "0a8ba6aa-b0fa-446e-850c-9cf923031de0"
      },
      "execution_count": 13,
      "outputs": [
        {
          "output_type": "stream",
          "name": "stderr",
          "text": [
            "<ipython-input-12-663c8d4c889d>:14: DeprecationWarning: Sampling from a set deprecated\n",
            "since Python 3.9 and will be removed in a subsequent version.\n",
            "  positions_to_remove = random.sample(Ci, num_to_replace)\n"
          ]
        },
        {
          "output_type": "stream",
          "name": "stdout",
          "text": [
            "\n",
            "Updated Results with Recommendations:\n",
            "Largest group found in Bucket 3053659018 with columns: [25, 26, 27]\n",
            "Jaccard similarity between Column 25 and Column 26: 0.8182\n",
            "Jaccard similarity between Column 25 and Column 27: 0.6814\n",
            "Jaccard similarity between Column 26 and Column 27: 0.8182\n"
          ]
        }
      ]
    },
    {
      "cell_type": "markdown",
      "source": [
        "###  Comparison of Baseline and Updated Results\n",
        "\n",
        "| **Aspect**                        | **Baseline Results**                        | **Updated Results**                          |\n",
        "|-----------------------------------|---------------------------------------------|----------------------------------------------|\n",
        "| **Difference Factor ($ \\Delta $)** | $ 0.02 $                                   | $ 0.1 $                                     |\n",
        "| **Number of Hash Functions ($ K $)** | $ 100 $                                    | $ 200 $                                     |\n",
        "| **Rows per Band ($ r $)**         | $ 5 $                                      | $ 10 $                                      |\n",
        "| **Largest Group Size**            | **14 columns**                              | **3 columns**                                |\n",
        "| **Jaccard Similarity Range**      | **0.5860 to 1.0000**                       | **0.6814 to 0.8182**                         |\n",
        "| **Interpretation**                | High similarity between columns; large group due to low variability. | Greater variability; smaller, more distinct groups. |\n",
        "| **Conclusion**                    | LSH groups many columns due to minor differences. | LSH effectively distinguishes between columns. |\n",
        "\n",
        "This  highlights that increasing variability with a higher difference factor ($ \\Delta $) and more detailed MinHash signatures improves LSH's ability to identify smaller, more distinct groups of similar columns."
      ],
      "metadata": {
        "id": "4UIqnnuJzx1d"
      }
    },
    {
      "cell_type": "markdown",
      "source": [
        "## Exercise 7\n",
        "\n",
        "\n",
        "\n"
      ],
      "metadata": {
        "id": "ekzFFUEBxurN"
      }
    },
    {
      "cell_type": "markdown",
      "source": [
        "\n",
        "The exercise involves the **S-curve function**:\n",
        "\n",
        "\\[\n",
        "S(x) = 1 - (1 - x^r)^b\n",
        "\\]\n",
        "\n",
        "Where:\n",
        "- **$ x $**: Jaccard similarity.\n",
        "- **$ r $**: Number of rows per band.\n",
        "- **$ b $**: Number of bands.\n",
        "\n",
        "This function gives the probability that a pair of sets with Jaccard similarity $ x $ becomes a candidate pair using the LSH technique.\n",
        "\n",
        "\n",
        "### **Part (a): Plot the S-Curve**\n",
        "\n",
        "We need to plot the S-curve for the following **4 pairs of parameters**:\n",
        "1. $ r = 2 $, $ b = 10 $\n",
        "2. $ r = 2 $, $ b = 50 $\n",
        "3. $ r = 5 $, $ b = 10 $\n",
        "4. $ r = 5 $, $ b = 50 $\n",
        "\n",
        "For each plot, estimate the **$ x $-value** where the curve reaches a **$ y $-value of 0.5**.\n",
        "\n",
        "\n"
      ],
      "metadata": {
        "id": "iV0ulnyJ3_rX"
      }
    },
    {
      "cell_type": "code",
      "source": [
        "\n",
        "import numpy as np\n",
        "import matplotlib.pyplot as plt\n",
        "\n",
        "def s_curve(x, r, b):\n",
        "    \"\"\"\n",
        "    Compute the S-curve function: 1 - (1 - x^r)^b\n",
        "\n",
        "    Parameters:\n",
        "    - x: Jaccard similarity (can be an array).\n",
        "    - r: Number of rows per band.\n",
        "    - b: Number of bands.\n",
        "\n",
        "    Returns:\n",
        "    - Probability that the pair becomes a candidate pair.\n",
        "    \"\"\"\n",
        "    return 1 - (1 - x**r)**b\n",
        "\n",
        "# Define the parameter pairs\n",
        "parameter_pairs = [\n",
        "    (2, 10),\n",
        "    (2, 50),\n",
        "    (5, 10),\n",
        "    (5, 50)\n",
        "]\n",
        "\n",
        "# Generate Jaccard similarity values (x) between 0 and 1\n",
        "x_values = np.linspace(0, 1, 1000)\n",
        "\n",
        "# Plot the S-curves for each parameter pair\n",
        "plt.figure(figsize=(10, 6))\n",
        "for r, b in parameter_pairs:\n",
        "    y_values = s_curve(x_values, r, b)\n",
        "    plt.plot(x_values, y_values, label=f\"r = {r}, b = {b}\")\n",
        "\n",
        "    # Estimate the x-value where the curve reaches y = 0.5\n",
        "    idx = np.argmin(np.abs(y_values - 0.5))\n",
        "    x_at_05 = x_values[idx]\n",
        "    plt.scatter(x_at_05, 0.5, label=f\"x ≈ {x_at_05:.3f} (r={r}, b={b})\", marker='o')\n",
        "\n",
        "# Customize the plot\n",
        "plt.title(\"S-Curve for Different Values of r and b\")\n",
        "plt.xlabel(\"Jaccard Similarity (x)\")\n",
        "plt.ylabel(\"Probability (S(x))\")\n",
        "plt.legend()\n",
        "plt.grid(True)\n",
        "plt.show()\n",
        "\n"
      ],
      "metadata": {
        "colab": {
          "base_uri": "https://localhost:8080/",
          "height": 564
        },
        "id": "7PEnI9JE03XQ",
        "outputId": "1c85d847-0ddc-4850-d98e-80bfc100b032"
      },
      "execution_count": 14,
      "outputs": [
        {
          "output_type": "display_data",
          "data": {
            "text/plain": [
              "<Figure size 1000x600 with 1 Axes>"
            ],
            "image/png": "[encoded data removed]"
          },
          "metadata": {}
        }
      ]
    },
    {
      "cell_type": "markdown",
      "source": [
        "\n",
        "### **Part (b): Derive an Analytical Expression**\n",
        "\n",
        "We need to derive an analytical expression to find the **$ x $-value** where the S-curve $ S(x) $ features the **highest slope (ascend)**.\n",
        "\n",
        "\n",
        "\n",
        "1. The S-curve function is:\n",
        "\n",
        "   $$\n",
        "   S(x) = 1 - (1 - x^r)^b\n",
        "   $$\n",
        "\n",
        "2. To find the point of maximum slope, we take the derivative $ S'(x) $:\n",
        "\n",
        "   $$\n",
        "   S'(x) = b \\cdot r \\cdot x^{r-1} \\cdot (1 - x^r)^{b-1}\n",
        "   $$\n",
        "\n",
        "3. To find the $ x $-value where the slope is maximized, set the derivative of $ S'(x) $ to zero. This yields:\n",
        "\n",
        "   $$\n",
        "   x = \\left(\\frac{1}{b + 1}\\right)^{1/r}\n",
        "   $$\n",
        "\n",
        "\n"
      ],
      "metadata": {
        "id": "5TL0mqG_1Tcw"
      }
    },
    {
      "cell_type": "code",
      "source": [
        "\n",
        "def max_slope_x(r, b):\n",
        "    \"\"\"\n",
        "    Compute the x-value where the S-curve has the highest slope.\n",
        "\n",
        "    Parameters:\n",
        "    - r: Number of rows per band.\n",
        "    - b: Number of bands.\n",
        "\n",
        "    Returns:\n",
        "    - x-value where the slope is maximized.\n",
        "    \"\"\"\n",
        "    return (1 / (b + 1))**(1 / r)\n",
        "\n",
        "# Compute and display the analytical x-values for the parameter pairs\n",
        "print(\"Analytical x-values for Maximum Slope:\")\n",
        "for r, b in parameter_pairs:\n",
        "    x_max_slope = max_slope_x(r, b)\n",
        "    print(f\"r = {r}, b = {b} -> x ≈ {x_max_slope:.3f}\")\n",
        "\n"
      ],
      "metadata": {
        "colab": {
          "base_uri": "https://localhost:8080/",
          "height": 0
        },
        "id": "duxmlm6W1gU_",
        "outputId": "c2534893-dcf5-4f77-a4cc-a8c2e757b1eb"
      },
      "execution_count": 15,
      "outputs": [
        {
          "output_type": "stream",
          "name": "stdout",
          "text": [
            "Analytical x-values for Maximum Slope:\n",
            "r = 2, b = 10 -> x ≈ 0.302\n",
            "r = 2, b = 50 -> x ≈ 0.140\n",
            "r = 5, b = 10 -> x ≈ 0.619\n",
            "r = 5, b = 50 -> x ≈ 0.455\n"
          ]
        }
      ]
    },
    {
      "cell_type": "markdown",
      "source": [
        "\n",
        "\n",
        "### **Comparison of Results**\n",
        "\n",
        "\n"
      ],
      "metadata": {
        "id": "sDIq8USV1mNi"
      }
    },
    {
      "cell_type": "code",
      "source": [
        "import numpy as np\n",
        "import matplotlib.pyplot as plt\n",
        "\n",
        "def s_curve(x, r, b):\n",
        "    return 1 - (1 - x**r)**b\n",
        "\n",
        "def max_slope_x(r, b):\n",
        "    return (1 / (b + 1))**(1 / r)\n",
        "\n",
        "# Define parameters\n",
        "parameter_pairs = [\n",
        "    (2, 10),\n",
        "    (2, 50),\n",
        "    (5, 10),\n",
        "    (5, 50)\n",
        "]\n",
        "\n",
        "x_values = np.linspace(0, 1, 1000)\n",
        "\n",
        "# Plot the S-curves\n",
        "plt.figure(figsize=(10, 6))\n",
        "for r, b in parameter_pairs:\n",
        "    y_values = s_curve(x_values, r, b)\n",
        "    plt.plot(x_values, y_values, label=f\"r = {r}, b = {b}\")\n",
        "\n",
        "    # Visual estimate (y = 0.5)\n",
        "    idx = np.argmin(np.abs(y_values - 0.5))\n",
        "    x_at_05 = x_values[idx]\n",
        "    plt.scatter(x_at_05, 0.5, label=f\"Visual x ≈ {x_at_05:.3f} (r={r}, b={b})\", marker='o')\n",
        "\n",
        "    # Analytical estimate (maximum slope)\n",
        "    x_max_slope = max_slope_x(r, b)\n",
        "    plt.axvline(x_max_slope, linestyle='--', color='gray', label=f\"Analytical x ≈ {x_max_slope:.3f} (r={r}, b={b})\")\n",
        "\n",
        "# Customize the plot\n",
        "plt.title(\"S-Curve with Visual and Analytical Estimates\")\n",
        "plt.xlabel(\"Jaccard Similarity (x)\")\n",
        "plt.ylabel(\"Probability (S(x))\")\n",
        "plt.legend()\n",
        "plt.grid(True)\n",
        "plt.show()\n"
      ],
      "metadata": {
        "colab": {
          "base_uri": "https://localhost:8080/",
          "height": 564
        },
        "id": "eE1WI1zC1n8F",
        "outputId": "c18d76bb-c92f-45c9-d4a5-bce1e892e420"
      },
      "execution_count": 16,
      "outputs": [
        {
          "output_type": "display_data",
          "data": {
            "text/plain": [
              "<Figure size 1000x600 with 1 Axes>"
            ],
            "image/png": "[encoded data removed]"
          },
          "metadata": {}
        }
      ]
    },
    {
      "cell_type": "markdown",
      "source": [
        "\n",
        "\n",
        "| **Parameters** | **Visual Estimate ($ y = 0.5 $)** | **Analytical Estimate (Max Slope)** | **Difference** |\n",
        "|----------------|-------------------------------------|-------------------------------------|---------------|\n",
        "| $ r = 2, b = 10 $ | $ x \\approx 0.259 $              | $ x \\approx 0.302 $              | $ 0.043 $   |\n",
        "| $ r = 2, b = 50 $ | $ x \\approx 0.117 $              | $ x \\approx 0.140 $              | $ 0.023 $   |\n",
        "| $ r = 5, b = 10 $ | $ x \\approx 0.583 $              | $ x \\approx 0.619 $              | $ 0.036 $   |\n",
        "| $ r = 5, b = 50 $ | $ x \\approx 0.424 $              | $ x \\approx 0.455 $              | $ 0.031 $   |\n",
        "\n",
        "\n",
        "\n",
        "1. **Small Differences**:  \n",
        "   The differences between the visual estimates and analytical estimates are **small** (ranging from **0.023** to **0.043**), indicating that both methods are closely aligned.\n",
        "\n",
        "2. **Trends**:  \n",
        "   - For **larger $ b $** values (e.g., $ b = 50 $), the $ x $-values where the curve reaches $ y = 0.5 $ are **smaller**, reflecting that more bands lead to stricter similarity thresholds.\n",
        "   - For **larger $ r $** values (e.g., $ r = 5 $), the $ x $-values are **larger**, showing that more rows per band allow for looser similarity thresholds.\n",
        "\n"
      ],
      "metadata": {
        "id": "zzcdiIPO2fxM"
      }
    }
  ]
}